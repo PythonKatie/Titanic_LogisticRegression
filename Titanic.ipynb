{
 "cells": [
  {
   "cell_type": "code",
   "execution_count": 11,
   "metadata": {},
   "outputs": [
    {
     "data": {
      "text/html": [
       "<div>\n",
       "<style scoped>\n",
       "    .dataframe tbody tr th:only-of-type {\n",
       "        vertical-align: middle;\n",
       "    }\n",
       "\n",
       "    .dataframe tbody tr th {\n",
       "        vertical-align: top;\n",
       "    }\n",
       "\n",
       "    .dataframe thead th {\n",
       "        text-align: right;\n",
       "    }\n",
       "</style>\n",
       "<table border=\"1\" class=\"dataframe\">\n",
       "  <thead>\n",
       "    <tr style=\"text-align: right;\">\n",
       "      <th></th>\n",
       "      <th>PassengerId</th>\n",
       "      <th>Survived</th>\n",
       "      <th>Pclass</th>\n",
       "      <th>Name</th>\n",
       "      <th>Sex</th>\n",
       "      <th>Age</th>\n",
       "      <th>SibSp</th>\n",
       "      <th>Parch</th>\n",
       "      <th>Ticket</th>\n",
       "      <th>Fare</th>\n",
       "      <th>Cabin</th>\n",
       "      <th>Embarked</th>\n",
       "    </tr>\n",
       "  </thead>\n",
       "  <tbody>\n",
       "    <tr>\n",
       "      <th>0</th>\n",
       "      <td>1</td>\n",
       "      <td>0</td>\n",
       "      <td>3</td>\n",
       "      <td>Braund, Mr. Owen Harris</td>\n",
       "      <td>male</td>\n",
       "      <td>22.0</td>\n",
       "      <td>1</td>\n",
       "      <td>0</td>\n",
       "      <td>A/5 21171</td>\n",
       "      <td>7.2500</td>\n",
       "      <td>NaN</td>\n",
       "      <td>S</td>\n",
       "    </tr>\n",
       "    <tr>\n",
       "      <th>1</th>\n",
       "      <td>2</td>\n",
       "      <td>1</td>\n",
       "      <td>1</td>\n",
       "      <td>Cumings, Mrs. John Bradley (Florence Briggs Th...</td>\n",
       "      <td>female</td>\n",
       "      <td>38.0</td>\n",
       "      <td>1</td>\n",
       "      <td>0</td>\n",
       "      <td>PC 17599</td>\n",
       "      <td>71.2833</td>\n",
       "      <td>C85</td>\n",
       "      <td>C</td>\n",
       "    </tr>\n",
       "    <tr>\n",
       "      <th>2</th>\n",
       "      <td>3</td>\n",
       "      <td>1</td>\n",
       "      <td>3</td>\n",
       "      <td>Heikkinen, Miss. Laina</td>\n",
       "      <td>female</td>\n",
       "      <td>26.0</td>\n",
       "      <td>0</td>\n",
       "      <td>0</td>\n",
       "      <td>STON/O2. 3101282</td>\n",
       "      <td>7.9250</td>\n",
       "      <td>NaN</td>\n",
       "      <td>S</td>\n",
       "    </tr>\n",
       "    <tr>\n",
       "      <th>3</th>\n",
       "      <td>4</td>\n",
       "      <td>1</td>\n",
       "      <td>1</td>\n",
       "      <td>Futrelle, Mrs. Jacques Heath (Lily May Peel)</td>\n",
       "      <td>female</td>\n",
       "      <td>35.0</td>\n",
       "      <td>1</td>\n",
       "      <td>0</td>\n",
       "      <td>113803</td>\n",
       "      <td>53.1000</td>\n",
       "      <td>C123</td>\n",
       "      <td>S</td>\n",
       "    </tr>\n",
       "    <tr>\n",
       "      <th>4</th>\n",
       "      <td>5</td>\n",
       "      <td>0</td>\n",
       "      <td>3</td>\n",
       "      <td>Allen, Mr. William Henry</td>\n",
       "      <td>male</td>\n",
       "      <td>35.0</td>\n",
       "      <td>0</td>\n",
       "      <td>0</td>\n",
       "      <td>373450</td>\n",
       "      <td>8.0500</td>\n",
       "      <td>NaN</td>\n",
       "      <td>S</td>\n",
       "    </tr>\n",
       "  </tbody>\n",
       "</table>\n",
       "</div>"
      ],
      "text/plain": [
       "   PassengerId  Survived  Pclass  \\\n",
       "0            1         0       3   \n",
       "1            2         1       1   \n",
       "2            3         1       3   \n",
       "3            4         1       1   \n",
       "4            5         0       3   \n",
       "\n",
       "                                                Name     Sex   Age  SibSp  \\\n",
       "0                            Braund, Mr. Owen Harris    male  22.0      1   \n",
       "1  Cumings, Mrs. John Bradley (Florence Briggs Th...  female  38.0      1   \n",
       "2                             Heikkinen, Miss. Laina  female  26.0      0   \n",
       "3       Futrelle, Mrs. Jacques Heath (Lily May Peel)  female  35.0      1   \n",
       "4                           Allen, Mr. William Henry    male  35.0      0   \n",
       "\n",
       "   Parch            Ticket     Fare Cabin Embarked  \n",
       "0      0         A/5 21171   7.2500   NaN        S  \n",
       "1      0          PC 17599  71.2833   C85        C  \n",
       "2      0  STON/O2. 3101282   7.9250   NaN        S  \n",
       "3      0            113803  53.1000  C123        S  \n",
       "4      0            373450   8.0500   NaN        S  "
      ]
     },
     "execution_count": 11,
     "metadata": {},
     "output_type": "execute_result"
    }
   ],
   "source": [
    "import pandas as pd\n",
    "import numpy as np\n",
    "import seaborn as sns\n",
    "import pylab as pylt\n",
    "\n",
    "import matplotlib.pyplot as plt\n",
    "from sklearn import linear_model as lm\n",
    "from sklearn import metrics\n",
    "from sklearn.model_selection import train_test_split\n",
    "import statsmodels.api as sm\n",
    "from statsmodels.formula.api import ols\n",
    "from statsmodels.sandbox.regression.predstd import wls_prediction_std\n",
    "from patsy import dmatrices\n",
    "\n",
    "%matplotlib inline\n",
    "\n",
    "df = pd.read_csv('Desktop\\\\Python\\\\Titanic\\\\titanic2.csv')\n",
    "df.head()"
   ]
  },
  {
   "cell_type": "code",
   "execution_count": 3,
   "metadata": {},
   "outputs": [
    {
     "data": {
      "text/plain": [
       "False    891\n",
       "Name: Survived, dtype: int64"
      ]
     },
     "execution_count": 3,
     "metadata": {},
     "output_type": "execute_result"
    }
   ],
   "source": [
    "df['Pclass'].isnull().value_counts()\n",
    "df['Survived'].isnull().value_counts()"
   ]
  },
  {
   "cell_type": "code",
   "execution_count": 4,
   "metadata": {},
   "outputs": [
    {
     "name": "stdout",
     "output_type": "stream",
     "text": [
      "Surviors per Pclass\n",
      "1    136\n",
      "2     87\n",
      "3    119\n",
      "Name: Survived, dtype: int64\n",
      "Passengers per Pclass\n",
      "1    216\n",
      "2    184\n",
      "3    491\n",
      "Name: PassengerId, dtype: int64\n",
      "Survivor percentage per Pclass\n",
      "1    0.629630\n",
      "2    0.472826\n",
      "3    0.242363\n",
      "dtype: float64\n"
     ]
    }
   ],
   "source": [
    "#Passengers survived in each class\n",
    "survivors = df.groupby('Pclass')['Survived'].agg(sum)\n",
    "print(\"Surviors per\", survivors)\n",
    "\n",
    "#Passengers survived in each class\n",
    "total_passengers = df.groupby('Pclass')['PassengerId'].count()\n",
    "print(\"Passengers per\", total_passengers)\n",
    "\n",
    "survivor_percentage = survivors/total_passengers\n",
    "print(\"Survivor percentage per\", survivor_percentage)"
   ]
  },
  {
   "cell_type": "code",
   "execution_count": 6,
   "metadata": {},
   "outputs": [
    {
     "data": {
      "image/png": "[encoded data removed]",
      "text/plain": [
       "<Figure size 432x288 with 1 Axes>"
      ]
     },
     "metadata": {
      "needs_background": "light"
     },
     "output_type": "display_data"
    }
   ],
   "source": [
    "#Plotting the Total number of survivors\n",
    "fig = plt.figure()\n",
    "ax = fig.add_subplot(111)\n",
    "rect = ax.bar(survivors.index.values.tolist(), survivors, color='blue', width=0.5)\n",
    "ax.set_ylabel(\"No. of survivors\")\n",
    "ax.set_title(\"Total number of survivors based on class\")\n",
    "ax.set_xticks(survivors.index.values.tolist())\n",
    "xTickMarks = survivors.index.values.tolist()\n",
    "xtickNames = ax.set_xticklabels(xTickMarks)\n",
    "plt.setp(xtickNames, fontsize=10)\n",
    "plt.show()"
   ]
  },
  {
   "cell_type": "code",
   "execution_count": 7,
   "metadata": {},
   "outputs": [
    {
     "name": "stdout",
     "output_type": "stream",
     "text": [
      "Number of males who survived 109\n",
      "Pclass\n",
      "1    122\n",
      "2    108\n",
      "3    347\n",
      "Name: PassengerId, dtype: int64\n",
      "Pclass\n",
      "1    122\n",
      "2    108\n",
      "3    347\n",
      "Name: Survived, dtype: int64\n",
      "Pclass\n",
      "1    45\n",
      "2    17\n",
      "3    47\n",
      "Name: Survived, dtype: int64\n",
      "Pclass\n",
      "1    0.368852\n",
      "2    0.157407\n",
      "3    0.135447\n",
      "dtype: float64\n"
     ]
    }
   ],
   "source": [
    "#Checking for surviors based on gender\n",
    "df['Sex'].isnull().value_counts()  #check null value\n",
    "\n",
    "#Number of Males who survived one way to compute, but will output all other columns as well\n",
    "#male_survivors = df[(df['Sex'] == 'male') & (df['Survived'] == 1)] \n",
    "#print(male_survivors.sum())\n",
    "\n",
    "#Number of Males who survived\n",
    "male_survivors = ((df['Sex'] == 'male') & (df['Survived'] == 1)).sum()\n",
    "print(\"Number of males who survived\", male_survivors)\n",
    "\n",
    "#Total Male Passengers in each class\n",
    "male_total_passengers = df[df['Sex'] == 'male'].groupby('Pclass')['PassengerId'].count()\n",
    "print(male_total_passengers)\n",
    "\n",
    "# Male Passengers who survived in each class using .count()\n",
    "male_survivors = df[df['Sex'] == 'male'].groupby('Pclass')['Survived'].count() # when you use .count() it will return all males as per PClass\n",
    "# since Survived here includes both 0 and 1\n",
    "print(male_survivors)        \n",
    "\n",
    "# Male Passengers who survived in each class using .sum()\n",
    "male_survivors = df[df['Sex'] == 'male'].groupby('Pclass')['Survived'].sum() # when you use .sum() it will return all males as per PClass\n",
    "# who survived, even though you are not using conditional check for 0 and 1. When you do Sum, summing all 0 gives 0 and summing all 1\n",
    "# gives you the correct number of survivors. But had this column included other numbers than 0 and 1, then you won't get the correct survived output\n",
    "print(male_survivors)\n",
    "\n",
    "male_survivor_percentage = male_survivors / male_total_passengers\n",
    "print(male_survivor_percentage)"
   ]
  },
  {
   "cell_type": "code",
   "execution_count": 8,
   "metadata": {},
   "outputs": [
    {
     "name": "stdout",
     "output_type": "stream",
     "text": [
      "Pclass\n",
      "1     94\n",
      "2     76\n",
      "3    144\n",
      "Name: PassengerId, dtype: int64\n",
      "Pclass\n",
      "1    91\n",
      "2    70\n",
      "3    72\n",
      "Name: Survived, dtype: int64\n",
      "Female survivor percentage Pclass\n",
      "1    0.968085\n",
      "2    0.921053\n",
      "3    0.500000\n",
      "dtype: float64\n"
     ]
    }
   ],
   "source": [
    "# Total female passengers in each class\n",
    "female_total_passengers = df[df['Sex'] == 'female'].groupby('Pclass')['PassengerId'].count()\n",
    "print(female_total_passengers)\n",
    "\n",
    "# Female Passengers survived in each class\n",
    "female_survivors = df[df['Sex'] == 'female'].groupby('Pclass')['Survived'].sum()\n",
    "print(female_survivors)\n",
    "\n",
    "# Female survivor percentage\n",
    "female_survivor_percentage = female_survivors/female_total_passengers\n",
    "print(\"Female survivor percentage\", female_survivor_percentage)"
   ]
  },
  {
   "cell_type": "code",
   "execution_count": 9,
   "metadata": {},
   "outputs": [
    {
     "data": {
      "image/png": "[encoded data removed]",
      "text/plain": [
       "<Figure size 432x288 with 1 Axes>"
      ]
     },
     "metadata": {
      "needs_background": "light"
     },
     "output_type": "display_data"
    }
   ],
   "source": [
    "# Plotting survivors based on gender\n",
    "fig = plt.figure()\n",
    "ax = fig.add_subplot(111)\n",
    "index = np.arange(male_survivors.count())\n",
    "bar_width = 0.35\n",
    "rect1 = ax.bar(index, male_survivors, bar_width, color='blue', label='Men')\n",
    "rect2 = ax.bar(index + bar_width, female_survivors, bar_width, color='y', label = 'Women')\n",
    "ax.set_ylabel('Survivor Numbers')\n",
    "ax.set_title('Male and Female survivors based on Class')\n",
    "xTickMarks = male_survivors.index.values.tolist()\n",
    "ax.set_xticks(index + bar_width)\n",
    "xtickNames = ax.set_xticklabels(xTickMarks)\n",
    "plt.setp(xtickNames, fontsize = 15)\n",
    "plt.legend()\n",
    "plt.tight_layout()\n",
    "plt.show()"
   ]
  },
  {
   "cell_type": "code",
   "execution_count": 10,
   "metadata": {},
   "outputs": [
    {
     "name": "stdout",
     "output_type": "stream",
     "text": [
      "Total number of non survivors 175\n",
      "Pclass\n",
      "1     29\n",
      "2     29\n",
      "3    117\n",
      "Name: Survived, dtype: int64\n",
      "Total Number of passengers per class Pclass\n",
      "1    216\n",
      "2    184\n",
      "3    491\n",
      "Name: PassengerId, dtype: int64\n",
      "Pclass\n",
      "1    0.134259\n",
      "2    0.157609\n",
      "3    0.238289\n",
      "dtype: float64\n"
     ]
    }
   ],
   "source": [
    "#distribution of nonsurvivors among the various classes who have family aboard the ship?\n",
    "\n",
    "df['SibSp'].isnull().value_counts()  # check if null\n",
    "df['Parch'].isnull().sum()\n",
    "\n",
    "#total number of nonsurvivors\n",
    "#non_survivors = (df['Survived'] == 0).sum()\n",
    "#print(non_survivors)\n",
    "\n",
    "non_survivors = ((df['Survived'] == 0) & ((df['SibSp'] != 0) | (df['Parch'] != 0))).sum()\n",
    "print(\"Total number of non survivors\", non_survivors)\n",
    "\n",
    "#Total number of non-survivors in each class\n",
    "non_survivors = df[((df['Survived'] == 0) & ((df['SibSp'] != 0) | (df['Parch'] != 0)))].groupby('Pclass')['Survived'].count()\n",
    "print(non_survivors)\n",
    "\n",
    "total_passengers = df.groupby('Pclass')['PassengerId'].count()\n",
    "print(\"Total Number of passengers per class\", total_passengers)\n",
    "\n",
    "non_survivor_percentage = non_survivors/total_passengers\n",
    "print(non_survivor_percentage)"
   ]
  },
  {
   "cell_type": "code",
   "execution_count": 11,
   "metadata": {},
   "outputs": [
    {
     "data": {
      "image/png": "[encoded data removed]",
      "text/plain": [
       "<Figure size 432x288 with 1 Axes>"
      ]
     },
     "metadata": {
      "needs_background": "light"
     },
     "output_type": "display_data"
    }
   ],
   "source": [
    "#Total number of non survivors with family based on class\n",
    "fig = plt.figure()\n",
    "ax = fig.add_subplot(111)\n",
    "rect = ax.bar(non_survivors.index.values.tolist(), non_survivors, color='blue', width=0.5)\n",
    "ax.set_ylabel('No. of non survivors')\n",
    "ax.set_title('Total number of non survivors with family based on class')\n",
    "xTickMarks = non_survivors.index.values.tolist()\n",
    "ax.set_xticks(non_survivors.index.values.tolist())\n",
    "xtickNames = ax.set_xticklabels(xTickMarks)\n",
    "plt.setp(xtickNames, fontsize=20)\n",
    "plt.show()"
   ]
  },
  {
   "cell_type": "code",
   "execution_count": 12,
   "metadata": {},
   "outputs": [
    {
     "data": {
      "image/png": "[encoded data removed]",
      "text/plain": [
       "<Figure size 432x288 with 1 Axes>"
      ]
     },
     "metadata": {
      "needs_background": "light"
     },
     "output_type": "display_data"
    }
   ],
   "source": [
    "#Plot of percentage of non survivors with family based on class\n",
    "fig = plt.figure()\n",
    "ax = fig.add_subplot(111)\n",
    "rect = ax.bar(non_survivor_percentage.index.values.tolist(), non_survivor_percentage, color='blue', width=0.5)\n",
    "ax.set_ylabel('Non Survivor Percentage')\n",
    "ax.set_title('Percentage of non survivors with family based on class')\n",
    "xTickMarks = non_survivor_percentage.index.values.tolist()\n",
    "ax.set_xticks(non_survivor_percentage.index.values.tolist())\n",
    "xtickNames = ax.set_xticklabels(xTickMarks)\n",
    "plt.setp(xtickNames, fontsize=20)\n",
    "plt.show()"
   ]
  },
  {
   "cell_type": "code",
   "execution_count": 2,
   "metadata": {},
   "outputs": [
    {
     "name": "stdout",
     "output_type": "stream",
     "text": [
      "Number of passengers after removing null values 714\n",
      "Survivors as per each AgeBin\n",
      "(0, 18]       70\n",
      "(18, 25]      54\n",
      "(25, 40]     111\n",
      "(40, 60]      50\n",
      "(60, 100]      5\n",
      "Name: Survived, dtype: int64\n",
      "Total Passengers each AgeBin\n",
      "(0, 18]      139\n",
      "(18, 25]     162\n",
      "(25, 40]     263\n",
      "(40, 60]     128\n",
      "(60, 100]     22\n",
      "Name: Survived, dtype: int64\n"
     ]
    }
   ],
   "source": [
    "# Survival percentage among different age groups\n",
    "df['Age'].isnull().value_counts() # Checking null values\n",
    "\n",
    "# Create bin interval for different age groups\n",
    "age_bin = [0, 18, 25, 40, 60, 100]  # Defining the age bin interval\n",
    "df['AgeBin'] = pd.cut(df.Age, bins = age_bin)\n",
    "\n",
    "# Removing null rows\n",
    "d_temp = df[np.isfinite(df['Age'])] # isfinite function checks for numbers which are not infinite and not null, so anything other that that it\n",
    "# will store in d_temp dataframe. Basically d_temp dataframe will inherit all columns & rows data from df except null value rows in Age\n",
    "d_temp.head()\n",
    "print(\"Number of passengers after removing null values\", d_temp['PassengerId'].count())\n",
    "\n",
    "survivors = d_temp.groupby('AgeBin')['Survived'].sum()\n",
    "print(\"Survivors as per each\", survivors)\n",
    "\n",
    "#Total passengers in each bin\n",
    "total_passengers = d_temp.groupby('AgeBin')['Survived'].count()\n",
    "print(\"Total Passengers each\", total_passengers)"
   ]
  },
  {
   "cell_type": "code",
   "execution_count": 3,
   "metadata": {},
   "outputs": [
    {
     "data": {
      "image/png": "[encoded data removed]",
      "text/plain": [
       "<Figure size 432x288 with 1 Axes>"
      ]
     },
     "metadata": {},
     "output_type": "display_data"
    }
   ],
   "source": [
    "#Plotting the pie chart of total passengers in each bin\n",
    "plt.pie(total_passengers, labels = total_passengers.index.values.tolist(), autopct = '%1.1f%%', shadow = True, startangle=90)\n",
    "plt.title('Total Passengers in different age groups')\n",
    "plt.show()"
   ]
  },
  {
   "cell_type": "code",
   "execution_count": 4,
   "metadata": {},
   "outputs": [
    {
     "data": {
      "image/png": "[encoded data removed]",
      "text/plain": [
       "<Figure size 432x288 with 1 Axes>"
      ]
     },
     "metadata": {},
     "output_type": "display_data"
    }
   ],
   "source": [
    "#Plotting the pie chart of percentage passengers in each bin\n",
    "plt.pie(survivors, labels=survivors.index.values.tolist(), autopct='%1.1f%%', shadow=True, startangle=90)\n",
    "plt.title('Survivors in different age groups')\n",
    "plt.show()"
   ]
  },
  {
   "cell_type": "code",
   "execution_count": 12,
   "metadata": {},
   "outputs": [
    {
     "data": {
      "text/plain": [
       "PassengerId    712\n",
       "Survived       712\n",
       "Pclass         712\n",
       "Sex            712\n",
       "Age            712\n",
       "SibSp          712\n",
       "Parch          712\n",
       "Fare           712\n",
       "Embarked       712\n",
       "dtype: int64"
      ]
     },
     "execution_count": 12,
     "metadata": {},
     "output_type": "execute_result"
    }
   ],
   "source": [
    "#BUILDING LOGISTIC MODEL\n",
    "df.count()\n",
    "df.head()\n",
    "\n",
    "# We'll remove Cabin, Ticket and Name columns from our DataFrame\n",
    "# Applying axis as 1 to remove the columns with the following labels\n",
    "\n",
    "df = df.drop(['Ticket','Cabin','Name'], axis=1)\n",
    "df.head()\n",
    "\n",
    "# Remove missing values\n",
    "df = df.dropna()\n",
    "df.count()"
   ]
  },
  {
   "cell_type": "code",
   "execution_count": 14,
   "metadata": {},
   "outputs": [
    {
     "data": {
      "text/html": [
       "<div>\n",
       "<style scoped>\n",
       "    .dataframe tbody tr th:only-of-type {\n",
       "        vertical-align: middle;\n",
       "    }\n",
       "\n",
       "    .dataframe tbody tr th {\n",
       "        vertical-align: top;\n",
       "    }\n",
       "\n",
       "    .dataframe thead th {\n",
       "        text-align: right;\n",
       "    }\n",
       "</style>\n",
       "<table border=\"1\" class=\"dataframe\">\n",
       "  <thead>\n",
       "    <tr style=\"text-align: right;\">\n",
       "      <th></th>\n",
       "      <th>PassengerId</th>\n",
       "      <th>Survived</th>\n",
       "      <th>Pclass</th>\n",
       "      <th>Sex</th>\n",
       "      <th>Age</th>\n",
       "      <th>SibSp</th>\n",
       "      <th>Parch</th>\n",
       "      <th>Fare</th>\n",
       "      <th>Embarked</th>\n",
       "    </tr>\n",
       "  </thead>\n",
       "  <tbody>\n",
       "    <tr>\n",
       "      <th>0</th>\n",
       "      <td>1</td>\n",
       "      <td>0</td>\n",
       "      <td>3</td>\n",
       "      <td>male</td>\n",
       "      <td>22.0</td>\n",
       "      <td>1</td>\n",
       "      <td>0</td>\n",
       "      <td>7.2500</td>\n",
       "      <td>S</td>\n",
       "    </tr>\n",
       "    <tr>\n",
       "      <th>1</th>\n",
       "      <td>2</td>\n",
       "      <td>1</td>\n",
       "      <td>1</td>\n",
       "      <td>female</td>\n",
       "      <td>38.0</td>\n",
       "      <td>1</td>\n",
       "      <td>0</td>\n",
       "      <td>71.2833</td>\n",
       "      <td>C</td>\n",
       "    </tr>\n",
       "    <tr>\n",
       "      <th>2</th>\n",
       "      <td>3</td>\n",
       "      <td>1</td>\n",
       "      <td>3</td>\n",
       "      <td>female</td>\n",
       "      <td>26.0</td>\n",
       "      <td>0</td>\n",
       "      <td>0</td>\n",
       "      <td>7.9250</td>\n",
       "      <td>S</td>\n",
       "    </tr>\n",
       "    <tr>\n",
       "      <th>3</th>\n",
       "      <td>4</td>\n",
       "      <td>1</td>\n",
       "      <td>1</td>\n",
       "      <td>female</td>\n",
       "      <td>35.0</td>\n",
       "      <td>1</td>\n",
       "      <td>0</td>\n",
       "      <td>53.1000</td>\n",
       "      <td>S</td>\n",
       "    </tr>\n",
       "    <tr>\n",
       "      <th>4</th>\n",
       "      <td>5</td>\n",
       "      <td>0</td>\n",
       "      <td>3</td>\n",
       "      <td>male</td>\n",
       "      <td>35.0</td>\n",
       "      <td>0</td>\n",
       "      <td>0</td>\n",
       "      <td>8.0500</td>\n",
       "      <td>S</td>\n",
       "    </tr>\n",
       "  </tbody>\n",
       "</table>\n",
       "</div>"
      ],
      "text/plain": [
       "   PassengerId  Survived  Pclass     Sex   Age  SibSp  Parch     Fare Embarked\n",
       "0            1         0       3    male  22.0      1      0   7.2500        S\n",
       "1            2         1       1  female  38.0      1      0  71.2833        C\n",
       "2            3         1       3  female  26.0      0      0   7.9250        S\n",
       "3            4         1       1  female  35.0      1      0  53.1000        S\n",
       "4            5         0       3    male  35.0      0      0   8.0500        S"
      ]
     },
     "execution_count": 14,
     "metadata": {},
     "output_type": "execute_result"
    }
   ],
   "source": [
    "df.head()"
   ]
  },
  {
   "cell_type": "code",
   "execution_count": 39,
   "metadata": {},
   "outputs": [],
   "source": [
    "#Convert Categorical variables into dummy variables\n",
    "#pclass = pd.get_dummies(df['Pclass'], drop_first=True)\n",
    "#sex = pd.get_dummies(df['Sex'], drop_first=True)\n",
    "#embark = pd.get_dummies(df['Embarked'], drop_first=True)\n",
    "\n",
    "#df.drop(['Sex','Embarked', 'Pclass'],axis=1,inplace=True) #Drop categorical variables from data df\n",
    "#print(df.head())\n",
    "\n",
    "#df = pd.concat([df, pclass, sex, embark],axis=1) # And Add the new dummy variables to the data df\n",
    "#df.head()"
   ]
  },
  {
   "cell_type": "code",
   "execution_count": 15,
   "metadata": {},
   "outputs": [
    {
     "data": {
      "text/plain": [
       "'Survived ~ C(Pclass) + C(Sex) + Age + SibSp + C(Embarked) + Parch'"
      ]
     },
     "execution_count": 15,
     "metadata": {},
     "output_type": "execute_result"
    }
   ],
   "source": [
    "formula = 'Survived ~ C(Pclass) + C(Sex) + Age + SibSp + C(Embarked) + Parch'\n",
    "formula"
   ]
  },
  {
   "cell_type": "code",
   "execution_count": 104,
   "metadata": {},
   "outputs": [
    {
     "data": {
      "text/plain": [
       "PassengerId    112\n",
       "Survived       112\n",
       "Pclass         112\n",
       "Sex            112\n",
       "Age            112\n",
       "SibSp          112\n",
       "Parch          112\n",
       "Fare           112\n",
       "Embarked       112\n",
       "dtype: int64"
      ]
     },
     "execution_count": 104,
     "metadata": {},
     "output_type": "execute_result"
    }
   ],
   "source": [
    "# create a results dictionary to hold our regression results for easy analysis later\n",
    "df_train = df.iloc[ 0: 600, : ]\n",
    "df_test = df.iloc[ 600: , : ]\n",
    "df_train.count()\n",
    "df_test.count()"
   ]
  },
  {
   "cell_type": "code",
   "execution_count": 105,
   "metadata": {},
   "outputs": [],
   "source": [
    "#Splitting the data into dependent and independent variables\n",
    "y_train, x_train = dmatrices(formula, data=df_train, return_type='dataframe')"
   ]
  },
  {
   "cell_type": "code",
   "execution_count": 106,
   "metadata": {},
   "outputs": [],
   "source": [
    "y_test, x_test = dmatrices(formula, data=df_test, return_type='dataframe')"
   ]
  },
  {
   "cell_type": "code",
   "execution_count": 8,
   "metadata": {},
   "outputs": [
    {
     "data": {
      "text/html": [
       "<div>\n",
       "<style scoped>\n",
       "    .dataframe tbody tr th:only-of-type {\n",
       "        vertical-align: middle;\n",
       "    }\n",
       "\n",
       "    .dataframe tbody tr th {\n",
       "        vertical-align: top;\n",
       "    }\n",
       "\n",
       "    .dataframe thead th {\n",
       "        text-align: right;\n",
       "    }\n",
       "</style>\n",
       "<table border=\"1\" class=\"dataframe\">\n",
       "  <thead>\n",
       "    <tr style=\"text-align: right;\">\n",
       "      <th></th>\n",
       "      <th>Intercept</th>\n",
       "      <th>C(Pclass)[T.2]</th>\n",
       "      <th>C(Pclass)[T.3]</th>\n",
       "      <th>C(Sex)[T.male]</th>\n",
       "      <th>C(Embarked)[T.Q]</th>\n",
       "      <th>C(Embarked)[T.S]</th>\n",
       "      <th>Age</th>\n",
       "      <th>SibSp</th>\n",
       "      <th>Parch</th>\n",
       "    </tr>\n",
       "  </thead>\n",
       "  <tbody>\n",
       "    <tr>\n",
       "      <th>0</th>\n",
       "      <td>1.0</td>\n",
       "      <td>0.0</td>\n",
       "      <td>1.0</td>\n",
       "      <td>1.0</td>\n",
       "      <td>0.0</td>\n",
       "      <td>1.0</td>\n",
       "      <td>22.0</td>\n",
       "      <td>1.0</td>\n",
       "      <td>0.0</td>\n",
       "    </tr>\n",
       "    <tr>\n",
       "      <th>1</th>\n",
       "      <td>1.0</td>\n",
       "      <td>0.0</td>\n",
       "      <td>0.0</td>\n",
       "      <td>0.0</td>\n",
       "      <td>0.0</td>\n",
       "      <td>0.0</td>\n",
       "      <td>38.0</td>\n",
       "      <td>1.0</td>\n",
       "      <td>0.0</td>\n",
       "    </tr>\n",
       "    <tr>\n",
       "      <th>2</th>\n",
       "      <td>1.0</td>\n",
       "      <td>0.0</td>\n",
       "      <td>1.0</td>\n",
       "      <td>0.0</td>\n",
       "      <td>0.0</td>\n",
       "      <td>1.0</td>\n",
       "      <td>26.0</td>\n",
       "      <td>0.0</td>\n",
       "      <td>0.0</td>\n",
       "    </tr>\n",
       "    <tr>\n",
       "      <th>3</th>\n",
       "      <td>1.0</td>\n",
       "      <td>0.0</td>\n",
       "      <td>0.0</td>\n",
       "      <td>0.0</td>\n",
       "      <td>0.0</td>\n",
       "      <td>1.0</td>\n",
       "      <td>35.0</td>\n",
       "      <td>1.0</td>\n",
       "      <td>0.0</td>\n",
       "    </tr>\n",
       "    <tr>\n",
       "      <th>4</th>\n",
       "      <td>1.0</td>\n",
       "      <td>0.0</td>\n",
       "      <td>1.0</td>\n",
       "      <td>1.0</td>\n",
       "      <td>0.0</td>\n",
       "      <td>1.0</td>\n",
       "      <td>35.0</td>\n",
       "      <td>0.0</td>\n",
       "      <td>0.0</td>\n",
       "    </tr>\n",
       "  </tbody>\n",
       "</table>\n",
       "</div>"
      ],
      "text/plain": [
       "   Intercept  C(Pclass)[T.2]  C(Pclass)[T.3]  C(Sex)[T.male]  \\\n",
       "0        1.0             0.0             1.0             1.0   \n",
       "1        1.0             0.0             0.0             0.0   \n",
       "2        1.0             0.0             1.0             0.0   \n",
       "3        1.0             0.0             0.0             0.0   \n",
       "4        1.0             0.0             1.0             1.0   \n",
       "\n",
       "   C(Embarked)[T.Q]  C(Embarked)[T.S]   Age  SibSp  Parch  \n",
       "0               0.0               1.0  22.0    1.0    0.0  \n",
       "1               0.0               0.0  38.0    1.0    0.0  \n",
       "2               0.0               1.0  26.0    0.0    0.0  \n",
       "3               0.0               1.0  35.0    1.0    0.0  \n",
       "4               0.0               1.0  35.0    0.0    0.0  "
      ]
     },
     "execution_count": 8,
     "metadata": {},
     "output_type": "execute_result"
    }
   ],
   "source": [
    "x_train.head()"
   ]
  },
  {
   "cell_type": "code",
   "execution_count": 9,
   "metadata": {},
   "outputs": [
    {
     "data": {
      "text/html": [
       "<div>\n",
       "<style scoped>\n",
       "    .dataframe tbody tr th:only-of-type {\n",
       "        vertical-align: middle;\n",
       "    }\n",
       "\n",
       "    .dataframe tbody tr th {\n",
       "        vertical-align: top;\n",
       "    }\n",
       "\n",
       "    .dataframe thead th {\n",
       "        text-align: right;\n",
       "    }\n",
       "</style>\n",
       "<table border=\"1\" class=\"dataframe\">\n",
       "  <thead>\n",
       "    <tr style=\"text-align: right;\">\n",
       "      <th></th>\n",
       "      <th>Intercept</th>\n",
       "      <th>C(Pclass)[T.2]</th>\n",
       "      <th>C(Pclass)[T.3]</th>\n",
       "      <th>C(Sex)[T.male]</th>\n",
       "      <th>C(Embarked)[T.Q]</th>\n",
       "      <th>C(Embarked)[T.S]</th>\n",
       "      <th>Age</th>\n",
       "      <th>SibSp</th>\n",
       "      <th>Parch</th>\n",
       "    </tr>\n",
       "  </thead>\n",
       "  <tbody>\n",
       "    <tr>\n",
       "      <th>754</th>\n",
       "      <td>1.0</td>\n",
       "      <td>1.0</td>\n",
       "      <td>0.0</td>\n",
       "      <td>0.0</td>\n",
       "      <td>0.0</td>\n",
       "      <td>1.0</td>\n",
       "      <td>48.00</td>\n",
       "      <td>1.0</td>\n",
       "      <td>2.0</td>\n",
       "    </tr>\n",
       "    <tr>\n",
       "      <th>755</th>\n",
       "      <td>1.0</td>\n",
       "      <td>1.0</td>\n",
       "      <td>0.0</td>\n",
       "      <td>1.0</td>\n",
       "      <td>0.0</td>\n",
       "      <td>1.0</td>\n",
       "      <td>0.67</td>\n",
       "      <td>1.0</td>\n",
       "      <td>1.0</td>\n",
       "    </tr>\n",
       "    <tr>\n",
       "      <th>756</th>\n",
       "      <td>1.0</td>\n",
       "      <td>0.0</td>\n",
       "      <td>1.0</td>\n",
       "      <td>1.0</td>\n",
       "      <td>0.0</td>\n",
       "      <td>1.0</td>\n",
       "      <td>28.00</td>\n",
       "      <td>0.0</td>\n",
       "      <td>0.0</td>\n",
       "    </tr>\n",
       "    <tr>\n",
       "      <th>757</th>\n",
       "      <td>1.0</td>\n",
       "      <td>1.0</td>\n",
       "      <td>0.0</td>\n",
       "      <td>1.0</td>\n",
       "      <td>0.0</td>\n",
       "      <td>1.0</td>\n",
       "      <td>18.00</td>\n",
       "      <td>0.0</td>\n",
       "      <td>0.0</td>\n",
       "    </tr>\n",
       "    <tr>\n",
       "      <th>758</th>\n",
       "      <td>1.0</td>\n",
       "      <td>0.0</td>\n",
       "      <td>1.0</td>\n",
       "      <td>1.0</td>\n",
       "      <td>0.0</td>\n",
       "      <td>1.0</td>\n",
       "      <td>34.00</td>\n",
       "      <td>0.0</td>\n",
       "      <td>0.0</td>\n",
       "    </tr>\n",
       "  </tbody>\n",
       "</table>\n",
       "</div>"
      ],
      "text/plain": [
       "     Intercept  C(Pclass)[T.2]  C(Pclass)[T.3]  C(Sex)[T.male]  \\\n",
       "754        1.0             1.0             0.0             0.0   \n",
       "755        1.0             1.0             0.0             1.0   \n",
       "756        1.0             0.0             1.0             1.0   \n",
       "757        1.0             1.0             0.0             1.0   \n",
       "758        1.0             0.0             1.0             1.0   \n",
       "\n",
       "     C(Embarked)[T.Q]  C(Embarked)[T.S]    Age  SibSp  Parch  \n",
       "754               0.0               1.0  48.00    1.0    2.0  \n",
       "755               0.0               1.0   0.67    1.0    1.0  \n",
       "756               0.0               1.0  28.00    0.0    0.0  \n",
       "757               0.0               1.0  18.00    0.0    0.0  \n",
       "758               0.0               1.0  34.00    0.0    0.0  "
      ]
     },
     "execution_count": 9,
     "metadata": {},
     "output_type": "execute_result"
    }
   ],
   "source": [
    "x_test.head()"
   ]
  },
  {
   "cell_type": "code",
   "execution_count": 107,
   "metadata": {},
   "outputs": [
    {
     "name": "stdout",
     "output_type": "stream",
     "text": [
      "Optimization terminated successfully.\n",
      "         Current function value: 0.451793\n",
      "         Iterations 6\n"
     ]
    },
    {
     "data": {
      "text/html": [
       "<table class=\"simpletable\">\n",
       "<tr>\n",
       "        <td>Model:</td>              <td>Logit</td>      <td>Pseudo R-squared:</td>    <td>0.331</td>  \n",
       "</tr>\n",
       "<tr>\n",
       "  <td>Dependent Variable:</td>     <td>Survived</td>           <td>AIC:</td>         <td>554.1516</td> \n",
       "</tr>\n",
       "<tr>\n",
       "         <td>Date:</td>        <td>2020-02-16 13:49</td>       <td>BIC:</td>         <td>580.5332</td> \n",
       "</tr>\n",
       "<tr>\n",
       "   <td>No. Observations:</td>         <td>600</td>        <td>Log-Likelihood:</td>    <td>-271.08</td> \n",
       "</tr>\n",
       "<tr>\n",
       "       <td>Df Model:</td>              <td>5</td>            <td>LL-Null:</td>        <td>-404.99</td> \n",
       "</tr>\n",
       "<tr>\n",
       "     <td>Df Residuals:</td>           <td>594</td>         <td>LLR p-value:</td>    <td>8.1718e-56</td>\n",
       "</tr>\n",
       "<tr>\n",
       "      <td>Converged:</td>           <td>1.0000</td>           <td>Scale:</td>         <td>1.0000</td>  \n",
       "</tr>\n",
       "<tr>\n",
       "    <td>No. Iterations:</td>        <td>6.0000</td>              <td></td>               <td></td>     \n",
       "</tr>\n",
       "</table>\n",
       "<table class=\"simpletable\">\n",
       "<tr>\n",
       "         <td></td>         <th>Coef.</th>  <th>Std.Err.</th>     <th>z</th>     <th>P>|z|</th> <th>[0.025</th>  <th>0.975]</th> \n",
       "</tr>\n",
       "<tr>\n",
       "  <th>Intercept</th>      <td>4.1050</td>   <td>0.4787</td>   <td>8.5747</td>  <td>0.0000</td> <td>3.1667</td>  <td>5.0433</td> \n",
       "</tr>\n",
       "<tr>\n",
       "  <th>C(Pclass)[T.2]</th> <td>-1.2971</td>  <td>0.3058</td>   <td>-4.2416</td> <td>0.0000</td> <td>-1.8964</td> <td>-0.6977</td>\n",
       "</tr>\n",
       "<tr>\n",
       "  <th>C(Pclass)[T.3]</th> <td>-2.5739</td>  <td>0.3052</td>   <td>-8.4327</td> <td>0.0000</td> <td>-3.1721</td> <td>-1.9757</td>\n",
       "</tr>\n",
       "<tr>\n",
       "  <th>C(Sex)[T.male]</th> <td>-2.5808</td>  <td>0.2347</td>  <td>-10.9961</td> <td>0.0000</td> <td>-3.0408</td> <td>-2.1208</td>\n",
       "</tr>\n",
       "<tr>\n",
       "  <th>Age</th>            <td>-0.0401</td>  <td>0.0088</td>   <td>-4.5494</td> <td>0.0000</td> <td>-0.0573</td> <td>-0.0228</td>\n",
       "</tr>\n",
       "<tr>\n",
       "  <th>SibSp</th>          <td>-0.3691</td>  <td>0.1300</td>   <td>-2.8402</td> <td>0.0045</td> <td>-0.6238</td> <td>-0.1144</td>\n",
       "</tr>\n",
       "</table>"
      ],
      "text/plain": [
       "<class 'statsmodels.iolib.summary2.Summary'>\n",
       "\"\"\"\n",
       "                         Results: Logit\n",
       "=================================================================\n",
       "Model:              Logit            Pseudo R-squared: 0.331     \n",
       "Dependent Variable: Survived         AIC:              554.1516  \n",
       "Date:               2020-02-16 13:49 BIC:              580.5332  \n",
       "No. Observations:   600              Log-Likelihood:   -271.08   \n",
       "Df Model:           5                LL-Null:          -404.99   \n",
       "Df Residuals:       594              LLR p-value:      8.1718e-56\n",
       "Converged:          1.0000           Scale:            1.0000    \n",
       "No. Iterations:     6.0000                                       \n",
       "-----------------------------------------------------------------\n",
       "                  Coef.  Std.Err.    z     P>|z|   [0.025  0.975]\n",
       "-----------------------------------------------------------------\n",
       "Intercept         4.1050   0.4787   8.5747 0.0000  3.1667  5.0433\n",
       "C(Pclass)[T.2]   -1.2971   0.3058  -4.2416 0.0000 -1.8964 -0.6977\n",
       "C(Pclass)[T.3]   -2.5739   0.3052  -8.4327 0.0000 -3.1721 -1.9757\n",
       "C(Sex)[T.male]   -2.5808   0.2347 -10.9961 0.0000 -3.0408 -2.1208\n",
       "Age              -0.0401   0.0088  -4.5494 0.0000 -0.0573 -0.0228\n",
       "SibSp            -0.3691   0.1300  -2.8402 0.0045 -0.6238 -0.1144\n",
       "=================================================================\n",
       "\n",
       "\"\"\""
      ]
     },
     "execution_count": 107,
     "metadata": {},
     "output_type": "execute_result"
    }
   ],
   "source": [
    "# instantiate our model\n",
    "#model = lm.LogisticRegression()\n",
    "model = sm.Logit(y_train, x_train)\n",
    "model = model.fit()\n",
    "model.summary2()"
   ]
  },
  {
   "cell_type": "code",
   "execution_count": 108,
   "metadata": {},
   "outputs": [
    {
     "name": "stdout",
     "output_type": "stream",
     "text": [
      "Optimization terminated successfully.\n",
      "         Current function value: 0.451793\n",
      "         Iterations 6\n"
     ]
    },
    {
     "data": {
      "text/html": [
       "<table class=\"simpletable\">\n",
       "<tr>\n",
       "        <td>Model:</td>              <td>Logit</td>      <td>Pseudo R-squared:</td>    <td>0.331</td>  \n",
       "</tr>\n",
       "<tr>\n",
       "  <td>Dependent Variable:</td>     <td>Survived</td>           <td>AIC:</td>         <td>554.1516</td> \n",
       "</tr>\n",
       "<tr>\n",
       "         <td>Date:</td>        <td>2020-02-16 13:49</td>       <td>BIC:</td>         <td>580.5332</td> \n",
       "</tr>\n",
       "<tr>\n",
       "   <td>No. Observations:</td>         <td>600</td>        <td>Log-Likelihood:</td>    <td>-271.08</td> \n",
       "</tr>\n",
       "<tr>\n",
       "       <td>Df Model:</td>              <td>5</td>            <td>LL-Null:</td>        <td>-404.99</td> \n",
       "</tr>\n",
       "<tr>\n",
       "     <td>Df Residuals:</td>           <td>594</td>         <td>LLR p-value:</td>    <td>8.1718e-56</td>\n",
       "</tr>\n",
       "<tr>\n",
       "      <td>Converged:</td>           <td>1.0000</td>           <td>Scale:</td>         <td>1.0000</td>  \n",
       "</tr>\n",
       "<tr>\n",
       "    <td>No. Iterations:</td>        <td>6.0000</td>              <td></td>               <td></td>     \n",
       "</tr>\n",
       "</table>\n",
       "<table class=\"simpletable\">\n",
       "<tr>\n",
       "         <td></td>         <th>Coef.</th>  <th>Std.Err.</th>     <th>z</th>     <th>P>|z|</th> <th>[0.025</th>  <th>0.975]</th> \n",
       "</tr>\n",
       "<tr>\n",
       "  <th>Intercept</th>      <td>4.1050</td>   <td>0.4787</td>   <td>8.5747</td>  <td>0.0000</td> <td>3.1667</td>  <td>5.0433</td> \n",
       "</tr>\n",
       "<tr>\n",
       "  <th>C(Pclass)[T.2]</th> <td>-1.2971</td>  <td>0.3058</td>   <td>-4.2416</td> <td>0.0000</td> <td>-1.8964</td> <td>-0.6977</td>\n",
       "</tr>\n",
       "<tr>\n",
       "  <th>C(Pclass)[T.3]</th> <td>-2.5739</td>  <td>0.3052</td>   <td>-8.4327</td> <td>0.0000</td> <td>-3.1721</td> <td>-1.9757</td>\n",
       "</tr>\n",
       "<tr>\n",
       "  <th>C(Sex)[T.male]</th> <td>-2.5808</td>  <td>0.2347</td>  <td>-10.9961</td> <td>0.0000</td> <td>-3.0408</td> <td>-2.1208</td>\n",
       "</tr>\n",
       "<tr>\n",
       "  <th>Age</th>            <td>-0.0401</td>  <td>0.0088</td>   <td>-4.5494</td> <td>0.0000</td> <td>-0.0573</td> <td>-0.0228</td>\n",
       "</tr>\n",
       "<tr>\n",
       "  <th>SibSp</th>          <td>-0.3691</td>  <td>0.1300</td>   <td>-2.8402</td> <td>0.0045</td> <td>-0.6238</td> <td>-0.1144</td>\n",
       "</tr>\n",
       "</table>"
      ],
      "text/plain": [
       "<class 'statsmodels.iolib.summary2.Summary'>\n",
       "\"\"\"\n",
       "                         Results: Logit\n",
       "=================================================================\n",
       "Model:              Logit            Pseudo R-squared: 0.331     \n",
       "Dependent Variable: Survived         AIC:              554.1516  \n",
       "Date:               2020-02-16 13:49 BIC:              580.5332  \n",
       "No. Observations:   600              Log-Likelihood:   -271.08   \n",
       "Df Model:           5                LL-Null:          -404.99   \n",
       "Df Residuals:       594              LLR p-value:      8.1718e-56\n",
       "Converged:          1.0000           Scale:            1.0000    \n",
       "No. Iterations:     6.0000                                       \n",
       "-----------------------------------------------------------------\n",
       "                  Coef.  Std.Err.    z     P>|z|   [0.025  0.975]\n",
       "-----------------------------------------------------------------\n",
       "Intercept         4.1050   0.4787   8.5747 0.0000  3.1667  5.0433\n",
       "C(Pclass)[T.2]   -1.2971   0.3058  -4.2416 0.0000 -1.8964 -0.6977\n",
       "C(Pclass)[T.3]   -2.5739   0.3052  -8.4327 0.0000 -3.1721 -1.9757\n",
       "C(Sex)[T.male]   -2.5808   0.2347 -10.9961 0.0000 -3.0408 -2.1208\n",
       "Age              -0.0401   0.0088  -4.5494 0.0000 -0.0573 -0.0228\n",
       "SibSp            -0.3691   0.1300  -2.8402 0.0045 -0.6238 -0.1144\n",
       "=================================================================\n",
       "\n",
       "\"\"\""
      ]
     },
     "execution_count": 108,
     "metadata": {},
     "output_type": "execute_result"
    }
   ],
   "source": [
    "# From the summary above, we can see that the port of embarkation and number of Parch are insignificant predictors \n",
    "# as their p-values are higher than 0.05 so we are going to drop them and build the regression function again\n",
    "formula = 'Survived ~ C(Pclass) + C(Sex) + Age + SibSp'\n",
    "\n",
    "y_train, x_train = dmatrices(formula, data=df_train, return_type='dataframe')\n",
    "y_test, x_test = dmatrices(formula, data=df_test, return_type='dataframe')\n",
    "\n",
    "# instantiate our model\n",
    "model = sm.Logit(y_train, x_train)\n",
    "model = model.fit()\n",
    "model.summary2()"
   ]
  },
  {
   "cell_type": "code",
   "execution_count": 109,
   "metadata": {},
   "outputs": [
    {
     "data": {
      "image/png": "[encoded data removed]",
      "text/plain": [
       "<Figure size 432x288 with 1 Axes>"
      ]
     },
     "metadata": {
      "needs_background": "light"
     },
     "output_type": "display_data"
    }
   ],
   "source": [
    "# All predictor variables are significant as per their pvalue in the summary above\n",
    "# Model evaluation, Let's see the distribution of the predictions on the training data\n",
    "kde_model = sm.nonparametric.KDEUnivariate(model.predict())\n",
    "kde_model.fit()\n",
    "\n",
    "# Plot KDE result\n",
    "plt.title(\"Distribution of the Predictions\")\n",
    "plt.plot(kde_model.support, kde_model.density)\n",
    "plt.fill_between(kde_model.support, kde_model.density, alpha=0.2)\n",
    "plt.show()"
   ]
  },
  {
   "cell_type": "code",
   "execution_count": 110,
   "metadata": {},
   "outputs": [
    {
     "data": {
      "image/png": "[encoded data removed]",
      "text/plain": [
       "<Figure size 432x288 with 1 Axes>"
      ]
     },
     "metadata": {
      "needs_background": "light"
     },
     "output_type": "display_data"
    }
   ],
   "source": [
    "plt.scatter(model.predict(), x_train.Age , alpha=0.2) ## ALso code as plt.scatter(model.predict(), x_train['Age'] , alpha=0.2)\n",
    "plt.grid(True, linewidth=0.15)\n",
    "plt.title(\"The Change of Survival Probability by Age\")\n",
    "plt.ylabel(\"Age\")\n",
    "plt.xlabel(\"Predicted chance of survival\")\n",
    "plt.show()"
   ]
  },
  {
   "cell_type": "code",
   "execution_count": 111,
   "metadata": {},
   "outputs": [
    {
     "data": {
      "image/png": "[encoded data removed]",
      "text/plain": [
       "<Figure size 432x288 with 1 Axes>"
      ]
     },
     "metadata": {
      "needs_background": "light"
     },
     "output_type": "display_data"
    }
   ],
   "source": [
    "plt.scatter(model.predict(), x_train['C(Pclass)[T.3]'] , alpha=0.2)\n",
    "plt.grid(b=True, which='major', axis='x')\n",
    "plt.xlabel(\"Predicted chance of survival\")\n",
    "plt.ylabel(\"Class Bool\") # Boolean class to show if its 3rd class\n",
    "plt.title(\"The Change of Survival Probability by Lower Class which is 3rd class\")\n",
    "plt.show()"
   ]
  },
  {
   "cell_type": "code",
   "execution_count": 112,
   "metadata": {},
   "outputs": [
    {
     "name": "stdout",
     "output_type": "stream",
     "text": [
      "Predicted  False  True \n",
      "Actual                 \n",
      "0.0           67      0\n",
      "1.0           21     24\n"
     ]
    }
   ],
   "source": [
    "#Evaluating a model based on test data\n",
    "y_pred = model.predict(x_test)\n",
    "y_pred_flag = y_pred > 0.7\n",
    "valflag = pd.crosstab(y_test.Survived, y_pred_flag, rownames = ['Actual'], colnames = ['Predicted']) # Same as Confusion Matrix\n",
    "print(valflag)"
   ]
  },
  {
   "cell_type": "code",
   "execution_count": 113,
   "metadata": {},
   "outputs": [
    {
     "name": "stdout",
     "output_type": "stream",
     "text": [
      "[[67  0]\n",
      " [21 24]]\n"
     ]
    }
   ],
   "source": [
    "#Confusion Matrix\n",
    "cm = metrics.confusion_matrix(y_test, y_pred_flag)\n",
    "print(cm)"
   ]
  },
  {
   "cell_type": "code",
   "execution_count": 114,
   "metadata": {},
   "outputs": [
    {
     "name": "stdout",
     "output_type": "stream",
     "text": [
      "              precision    recall  f1-score   support\n",
      "\n",
      "         0.0       0.76      1.00      0.86        67\n",
      "         1.0       1.00      0.53      0.70        45\n",
      "\n",
      "    accuracy                           0.81       112\n",
      "   macro avg       0.88      0.77      0.78       112\n",
      "weighted avg       0.86      0.81      0.80       112\n",
      "\n"
     ]
    }
   ],
   "source": [
    "# CLassification Report\n",
    "cr = metrics.classification_report(y_test, y_pred_flag)\n",
    "print(cr)"
   ]
  },
  {
   "cell_type": "code",
   "execution_count": 128,
   "metadata": {},
   "outputs": [
    {
     "name": "stdout",
     "output_type": "stream",
     "text": [
      "Area under the ROC curve : 0.879934\n"
     ]
    }
   ],
   "source": [
    "# Compute ROC (Receiver Operating Characteristic) and AUC (Area Under Curve)\n",
    "fpr, tpr, threshold = metrics.roc_curve(y_test, y_pred) #fpr = false_positive_rate, tpr = true_positive_rate\n",
    "roc_auc = metrics.auc(fpr, tpr)\n",
    "print(\"Area under the ROC curve : %f\" % roc_auc)"
   ]
  },
  {
   "cell_type": "code",
   "execution_count": 147,
   "metadata": {},
   "outputs": [
    {
     "data": {
      "image/png": "[encoded data removed]",
      "text/plain": [
       "<Figure size 432x288 with 1 Axes>"
      ]
     },
     "metadata": {
      "needs_background": "light"
     },
     "output_type": "display_data"
    }
   ],
   "source": [
    "#Plot RUC/AUC Curve\n",
    "plt.clf()\n",
    "plt.plot(fpr, tpr, label='ROC curve (area = %0.2f)' % roc_auc)\n",
    "plt.plot([0,1], [0,1], 'k--') #Draws the diagonal line\n",
    "plt.xlim([0.0, 1.0])\n",
    "plt.ylim([0.0, 1.0])\n",
    "plt.title(\"Receiver Operating Characteristic\")\n",
    "plt.ylabel(\"Sensitivity = True Positive\")\n",
    "plt.xlabel(\"1 - Specificity = False Positive\")\n",
    "plt.legend(loc='lower right')\n",
    "plt.show()"
   ]
  },
  {
   "cell_type": "code",
   "execution_count": 211,
   "metadata": {},
   "outputs": [
    {
     "name": "stderr",
     "output_type": "stream",
     "text": [
      "C:\\Users\\suman\\Anaconda3\\lib\\site-packages\\sklearn\\linear_model\\logistic.py:432: FutureWarning: Default solver will be changed to 'lbfgs' in 0.22. Specify a solver to silence this warning.\n",
      "  FutureWarning)\n"
     ]
    }
   ],
   "source": [
    "# Model building using SciKit\n",
    "# instantiate a logistic regression model, and fit with X and y\n",
    "model = lm.LogisticRegression()\n",
    "model = model.fit(x_train, y_train.Survived)"
   ]
  },
  {
   "cell_type": "code",
   "execution_count": 212,
   "metadata": {},
   "outputs": [
    {
     "data": {
      "text/html": [
       "<div>\n",
       "<style scoped>\n",
       "    .dataframe tbody tr th:only-of-type {\n",
       "        vertical-align: middle;\n",
       "    }\n",
       "\n",
       "    .dataframe tbody tr th {\n",
       "        vertical-align: top;\n",
       "    }\n",
       "\n",
       "    .dataframe thead th {\n",
       "        text-align: right;\n",
       "    }\n",
       "</style>\n",
       "<table border=\"1\" class=\"dataframe\">\n",
       "  <thead>\n",
       "    <tr style=\"text-align: right;\">\n",
       "      <th></th>\n",
       "      <th>0</th>\n",
       "      <th>1</th>\n",
       "    </tr>\n",
       "  </thead>\n",
       "  <tbody>\n",
       "    <tr>\n",
       "      <th>0</th>\n",
       "      <td>Intercept</td>\n",
       "      <td>[1.6790105519020726]</td>\n",
       "    </tr>\n",
       "    <tr>\n",
       "      <th>1</th>\n",
       "      <td>C(Pclass)[T.2]</td>\n",
       "      <td>[-0.9411538501520048]</td>\n",
       "    </tr>\n",
       "    <tr>\n",
       "      <th>2</th>\n",
       "      <td>C(Pclass)[T.3]</td>\n",
       "      <td>[-2.139352065329334]</td>\n",
       "    </tr>\n",
       "    <tr>\n",
       "      <th>3</th>\n",
       "      <td>C(Sex)[T.male]</td>\n",
       "      <td>[-2.343784959775586]</td>\n",
       "    </tr>\n",
       "    <tr>\n",
       "      <th>4</th>\n",
       "      <td>Age</td>\n",
       "      <td>[-0.0314323508583484]</td>\n",
       "    </tr>\n",
       "    <tr>\n",
       "      <th>5</th>\n",
       "      <td>SibSp</td>\n",
       "      <td>[-0.2976887528797751]</td>\n",
       "    </tr>\n",
       "  </tbody>\n",
       "</table>\n",
       "</div>"
      ],
      "text/plain": [
       "                0                      1\n",
       "0       Intercept   [1.6790105519020726]\n",
       "1  C(Pclass)[T.2]  [-0.9411538501520048]\n",
       "2  C(Pclass)[T.3]   [-2.139352065329334]\n",
       "3  C(Sex)[T.male]   [-2.343784959775586]\n",
       "4             Age  [-0.0314323508583484]\n",
       "5           SibSp  [-0.2976887528797751]"
      ]
     },
     "execution_count": 212,
     "metadata": {},
     "output_type": "execute_result"
    }
   ],
   "source": [
    "#examine the coefficients\n",
    "pd.DataFrame(zip(x_train.columns, np.transpose(model.coef_)))"
   ]
  },
  {
   "cell_type": "code",
   "execution_count": 215,
   "metadata": {},
   "outputs": [
    {
     "name": "stdout",
     "output_type": "stream",
     "text": [
      "[[58  9]\n",
      " [10 35]]\n"
     ]
    }
   ],
   "source": [
    "y_pred = model.predict(x_test)\n",
    "y_pred_flag = y_pred > 0.7\n",
    "\n",
    "cm = metrics.confusion_matrix(y_test, y_pred_flag)\n",
    "print(cm)"
   ]
  },
  {
   "cell_type": "code",
   "execution_count": 237,
   "metadata": {},
   "outputs": [
    {
     "name": "stdout",
     "output_type": "stream",
     "text": [
      "[[67  0]\n",
      " [23 22]]\n"
     ]
    }
   ],
   "source": [
    "y_pred = model.predict_proba(x_test)\n",
    "y_pred_flag = y_pred[:,1] > 0.7       \n",
    "cm = metrics.confusion_matrix(y_test, y_pred_flag)\n",
    "print(cm)"
   ]
  },
  {
   "cell_type": "code",
   "execution_count": 225,
   "metadata": {},
   "outputs": [
    {
     "name": "stdout",
     "output_type": "stream",
     "text": [
      "              precision    recall  f1-score   support\n",
      "\n",
      "         0.0       0.74      1.00      0.85        67\n",
      "         1.0       1.00      0.49      0.66        45\n",
      "\n",
      "    accuracy                           0.79       112\n",
      "   macro avg       0.87      0.74      0.76       112\n",
      "weighted avg       0.85      0.79      0.77       112\n",
      "\n"
     ]
    }
   ],
   "source": [
    "cr = metrics.classification_report(y_test, y_pred_flag)\n",
    "print(cr)"
   ]
  },
  {
   "cell_type": "raw",
   "metadata": {},
   "source": [
    "print(\"\\n\\n\")"
   ]
  },
  {
   "cell_type": "code",
   "execution_count": 226,
   "metadata": {},
   "outputs": [
    {
     "name": "stdout",
     "output_type": "stream",
     "text": [
      "Area under the ROC curve : 0.878275\n"
     ]
    }
   ],
   "source": [
    "fpr, tpr, thresholds = metrics.roc_curve(y_test, y_pred[:,1]) #fpr = false_positive_rate, tpr = true_positive_rate\n",
    "roc_auc = metrics.auc(fpr, tpr)\n",
    "print( \"Area under the ROC curve : %f\" % roc_auc)"
   ]
  },
  {
   "cell_type": "code",
   "execution_count": 227,
   "metadata": {},
   "outputs": [
    {
     "data": {
      "image/png": "[encoded data removed]",
      "text/plain": [
       "<Figure size 432x288 with 1 Axes>"
      ]
     },
     "metadata": {
      "needs_background": "light"
     },
     "output_type": "display_data"
    }
   ],
   "source": [
    "#Plot RUC/AUC Curve\n",
    "plt.clf()\n",
    "plt.plot(fpr, tpr, label='ROC curve (area = %0.2f)' % roc_auc)\n",
    "plt.plot([0,1], [0,1], 'k--') #Draws the diagonal line\n",
    "plt.xlim([0.0, 1.0])\n",
    "plt.ylim([0.0, 1.0])\n",
    "plt.title(\"Receiver Operating Characteristic\")\n",
    "plt.ylabel(\"Sensitivity = True Positive\")\n",
    "plt.xlabel(\"1 - Specificity = False Positive\")\n",
    "plt.legend(loc='lower right')\n",
    "plt.show()"
   ]
  },
  {
   "cell_type": "code",
   "execution_count": 228,
   "metadata": {},
   "outputs": [
    {
     "ename": "NameError",
     "evalue": "name 'pred_y' is not defined",
     "output_type": "error",
     "traceback": [
      "\u001b[1;31m---------------------------------------------------------------------------\u001b[0m",
      "\u001b[1;31mNameError\u001b[0m                                 Traceback (most recent call last)",
      "\u001b[1;32m<ipython-input-228-eb0fc089b9e6>\u001b[0m in \u001b[0;36m<module>\u001b[1;34m\u001b[0m\n\u001b[1;32m----> 1\u001b[1;33m \u001b[0mprint\u001b[0m\u001b[1;33m(\u001b[0m\u001b[0mpred_y\u001b[0m\u001b[1;33m[\u001b[0m\u001b[1;33m:\u001b[0m\u001b[1;33m,\u001b[0m\u001b[1;36m1\u001b[0m\u001b[1;33m]\u001b[0m\u001b[1;33m)\u001b[0m\u001b[1;33m\u001b[0m\u001b[1;33m\u001b[0m\u001b[0m\n\u001b[0m",
      "\u001b[1;31mNameError\u001b[0m: name 'pred_y' is not defined"
     ]
    }
   ],
   "source": [
    "print(pred_y[:,1])"
   ]
  },
  {
   "cell_type": "code",
   "execution_count": 229,
   "metadata": {},
   "outputs": [
    {
     "ename": "NameError",
     "evalue": "name 'pred_y' is not defined",
     "output_type": "error",
     "traceback": [
      "\u001b[1;31m---------------------------------------------------------------------------\u001b[0m",
      "\u001b[1;31mNameError\u001b[0m                                 Traceback (most recent call last)",
      "\u001b[1;32m<ipython-input-229-3e5b9822de8b>\u001b[0m in \u001b[0;36m<module>\u001b[1;34m\u001b[0m\n\u001b[1;32m----> 1\u001b[1;33m \u001b[0mprint\u001b[0m\u001b[1;33m(\u001b[0m\u001b[0mpred_y\u001b[0m\u001b[1;33m)\u001b[0m\u001b[1;33m\u001b[0m\u001b[1;33m\u001b[0m\u001b[0m\n\u001b[0m",
      "\u001b[1;31mNameError\u001b[0m: name 'pred_y' is not defined"
     ]
    }
   ],
   "source": [
    "print(pred_y)"
   ]
  },
  {
   "cell_type": "code",
   "execution_count": null,
   "metadata": {},
   "outputs": [],
   "source": []
  }
 ],
 "metadata": {
  "kernelspec": {
   "display_name": "Python 3",
   "language": "python",
   "name": "python3"
  },
  "language_info": {
   "codemirror_mode": {
    "name": "ipython",
    "version": 3
   },
   "file_extension": ".py",
   "mimetype": "text/x-python",
   "name": "python",
   "nbconvert_exporter": "python",
   "pygments_lexer": "ipython3",
   "version": "3.7.3"
  }
 },
 "nbformat": 4,
 "nbformat_minor": 4
}
